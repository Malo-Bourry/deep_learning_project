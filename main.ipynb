{
 "cells": [
  {
   "cell_type": "code",
   "execution_count": null,
   "metadata": {},
   "outputs": [],
   "source": [
    "import pandas as pd\n",
    "from sklearn.preprocessing import StandardScaler\n",
    "import torch\n",
    "import torch.nn as nn\n",
    "import torch.nn.functional as functional\n",
    "from torch.utils.data import DataLoader, TensorDataset\n",
    "import torch.optim as optim\n",
    "from torchmetrics import Accuracy"
   ]
  },
  {
   "cell_type": "markdown",
   "metadata": {},
   "source": [
    "# 1. Import des data"
   ]
  },
  {
   "cell_type": "code",
   "execution_count": null,
   "metadata": {},
   "outputs": [],
   "source": [
    "train_df = pd.read_csv(\"data/train_data.csv\")\n",
    "test_df = pd.read_csv(\"data/test_data.csv\")\n",
    "validation_df = pd.read_csv(\"data/validation_data.csv\")"
   ]
  },
  {
   "cell_type": "markdown",
   "metadata": {},
   "source": [
    "# 2. Préparation des data d'entrainement"
   ]
  },
  {
   "cell_type": "code",
   "execution_count": null,
   "metadata": {},
   "outputs": [],
   "source": [
    "X_train = train_df.iloc[:, :-1]\n",
    "y_train = train_df.iloc[:, -1]\n",
    "\n",
    "X_test = train_df.iloc[:, :-1]\n",
    "y_test = train_df.iloc[:, -1]"
   ]
  },
  {
   "cell_type": "code",
   "execution_count": null,
   "metadata": {},
   "outputs": [],
   "source": [
    "# On scale les données d'entrainement\n",
    "scaler = StandardScaler()\n",
    "X_train = scaler.fit_transform()\n",
    "\n",
    "# On transforme nos dataset en tenseur\n",
    "X_train = torch.torch(X_train)\n",
    "y_train = torch.torch(y_train)\n",
    "X_test  = torch.torch(X_test)\n",
    "y_test  = torch.torch(y_test)\n",
    "\n",
    "# On créé notre DataLoader\n",
    "dataset = TensorDataset(X_train, y_train)\n",
    "dataloader = DataLoader(dataset, batch_size=256, shuffle=True)\n",
    "\n",
    "\n",
    "# Création de notre modele\n",
    "model = nn.Sequential(\n",
    "    nn.Linear(7, 10),\n",
    "    nn.Linear(10, 5),\n",
    "    nn.Linear(5, 2),\n",
    "    nn.Sigmoid()\n",
    ")\n",
    "\n",
    "\n",
    "# Entrainement du modele\n",
    "num_epoch = 10\n",
    "for epoch in range(num_epoch):\n",
    "    for feature, target in dataloader:\n",
    "        output = model(feature)        \n",
    "        optimizer = optim.SGD(model.parameters(), lr=0.001)\n",
    "        optimizer.zero_grad()\n",
    "\n",
    "        criterion = nn.BCELoss()  # Binary Cross Entropy (problématique binaire)\n",
    "        loss = criterion(output, target)\n",
    "        loss.backward()        \n",
    "        optimizer.step()"
   ]
  }
 ],
 "metadata": {
  "kernelspec": {
   "display_name": "computer_vision_project",
   "language": "python",
   "name": "python3"
  },
  "language_info": {
   "name": "python",
   "version": "3.13.2"
  }
 },
 "nbformat": 4,
 "nbformat_minor": 2
}
